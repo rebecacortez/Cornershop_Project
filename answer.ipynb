{
 "cells": [
  {
   "cell_type": "markdown",
   "source": [
    "# Import library "
   ],
   "metadata": {}
  },
  {
   "cell_type": "code",
   "execution_count": 48,
   "source": [
    "import pandas as pd\n",
    "import numpy as np \n",
    "import seaborn as sns\n",
    "import matplotlib.pyplot as plt "
   ],
   "outputs": [],
   "metadata": {}
  },
  {
   "cell_type": "markdown",
   "source": [
    "# Read files"
   ],
   "metadata": {}
  },
  {
   "cell_type": "code",
   "execution_count": 49,
   "source": [
    "storebranch = pd.read_csv('data/storebranch.csv')\n",
    "shoppers = pd.read_csv('data/shoppers.csv')\n",
    "orders = pd.read_csv('data/orders.csv')\n",
    "order_product = pd.read_csv('data/order_product.csv')"
   ],
   "outputs": [],
   "metadata": {}
  },
  {
   "cell_type": "code",
   "execution_count": 50,
   "source": [
    "orders.head()"
   ],
   "outputs": [
    {
     "output_type": "execute_result",
     "data": {
      "text/html": [
       "<div>\n",
       "<style scoped>\n",
       "    .dataframe tbody tr th:only-of-type {\n",
       "        vertical-align: middle;\n",
       "    }\n",
       "\n",
       "    .dataframe tbody tr th {\n",
       "        vertical-align: top;\n",
       "    }\n",
       "\n",
       "    .dataframe thead th {\n",
       "        text-align: right;\n",
       "    }\n",
       "</style>\n",
       "<table border=\"1\" class=\"dataframe\">\n",
       "  <thead>\n",
       "    <tr style=\"text-align: right;\">\n",
       "      <th></th>\n",
       "      <th>order_id</th>\n",
       "      <th>lat</th>\n",
       "      <th>lng</th>\n",
       "      <th>dow</th>\n",
       "      <th>promised_time</th>\n",
       "      <th>actual_time</th>\n",
       "      <th>on_demand</th>\n",
       "      <th>picker_id</th>\n",
       "      <th>driver_id</th>\n",
       "      <th>store_branch_id</th>\n",
       "      <th>total_minutes</th>\n",
       "    </tr>\n",
       "  </thead>\n",
       "  <tbody>\n",
       "    <tr>\n",
       "      <th>0</th>\n",
       "      <td>6abd5e28d01b7c733fe37485294235dc</td>\n",
       "      <td>18.221141</td>\n",
       "      <td>-100.313914</td>\n",
       "      <td>2</td>\n",
       "      <td>13:00:00</td>\n",
       "      <td>12:00:15</td>\n",
       "      <td>False</td>\n",
       "      <td>09bb5bfe76adbb474dddbdd111a51623</td>\n",
       "      <td>09bb5bfe76adbb474dddbdd111a51623</td>\n",
       "      <td>0dc6fb5924a8b917bc641666ed02663c</td>\n",
       "      <td>91.800861</td>\n",
       "    </tr>\n",
       "    <tr>\n",
       "      <th>1</th>\n",
       "      <td>0d37a1eea001f01b40232ffd496ff663</td>\n",
       "      <td>18.177712</td>\n",
       "      <td>-100.357051</td>\n",
       "      <td>2</td>\n",
       "      <td>13:00:00</td>\n",
       "      <td>10:28:10</td>\n",
       "      <td>False</td>\n",
       "      <td>c4c722114a82fa21654e57e9636d68b0</td>\n",
       "      <td>c4c722114a82fa21654e57e9636d68b0</td>\n",
       "      <td>2bbf833e689d24b697f1f3529c3f3c4b</td>\n",
       "      <td>206.599732</td>\n",
       "    </tr>\n",
       "    <tr>\n",
       "      <th>2</th>\n",
       "      <td>528428e9b9eb5d3bd0dbdd8da692b087</td>\n",
       "      <td>18.266832</td>\n",
       "      <td>-100.317553</td>\n",
       "      <td>2</td>\n",
       "      <td>11:00:00</td>\n",
       "      <td>10:40:50</td>\n",
       "      <td>False</td>\n",
       "      <td>e15c7a67d0ea9a54dffb410bc1d8528b</td>\n",
       "      <td>e15c7a67d0ea9a54dffb410bc1d8528b</td>\n",
       "      <td>8d891dfc0e29d744c15c18adced74a68</td>\n",
       "      <td>93.458001</td>\n",
       "    </tr>\n",
       "    <tr>\n",
       "      <th>3</th>\n",
       "      <td>d3f7be6d64eae7405b7bf024e04807a2</td>\n",
       "      <td>18.248884</td>\n",
       "      <td>-100.322622</td>\n",
       "      <td>2</td>\n",
       "      <td>10:00:00</td>\n",
       "      <td>09:41:47</td>\n",
       "      <td>False</td>\n",
       "      <td>d1f0bd4b237c1358f09db22076b940e7</td>\n",
       "      <td>d1f0bd4b237c1358f09db22076b940e7</td>\n",
       "      <td>0dc6fb5924a8b917bc641666ed02663c</td>\n",
       "      <td>124.778761</td>\n",
       "    </tr>\n",
       "    <tr>\n",
       "      <th>4</th>\n",
       "      <td>e0ad6533b6cd9a382ec6c1d473c5036c</td>\n",
       "      <td>18.229110</td>\n",
       "      <td>-100.322672</td>\n",
       "      <td>2</td>\n",
       "      <td>11:00:00</td>\n",
       "      <td>10:07:53</td>\n",
       "      <td>False</td>\n",
       "      <td>06a71e8ab0c6db5ce22a4689fd76a3f4</td>\n",
       "      <td>06a71e8ab0c6db5ce22a4689fd76a3f4</td>\n",
       "      <td>afd0a7b8d546fcc697bb93a5934b65c3</td>\n",
       "      <td>130.321208</td>\n",
       "    </tr>\n",
       "  </tbody>\n",
       "</table>\n",
       "</div>"
      ],
      "text/plain": [
       "                           order_id        lat         lng  dow promised_time  \\\n",
       "0  6abd5e28d01b7c733fe37485294235dc  18.221141 -100.313914    2      13:00:00   \n",
       "1  0d37a1eea001f01b40232ffd496ff663  18.177712 -100.357051    2      13:00:00   \n",
       "2  528428e9b9eb5d3bd0dbdd8da692b087  18.266832 -100.317553    2      11:00:00   \n",
       "3  d3f7be6d64eae7405b7bf024e04807a2  18.248884 -100.322622    2      10:00:00   \n",
       "4  e0ad6533b6cd9a382ec6c1d473c5036c  18.229110 -100.322672    2      11:00:00   \n",
       "\n",
       "  actual_time  on_demand                         picker_id  \\\n",
       "0    12:00:15      False  09bb5bfe76adbb474dddbdd111a51623   \n",
       "1    10:28:10      False  c4c722114a82fa21654e57e9636d68b0   \n",
       "2    10:40:50      False  e15c7a67d0ea9a54dffb410bc1d8528b   \n",
       "3    09:41:47      False  d1f0bd4b237c1358f09db22076b940e7   \n",
       "4    10:07:53      False  06a71e8ab0c6db5ce22a4689fd76a3f4   \n",
       "\n",
       "                          driver_id                   store_branch_id  \\\n",
       "0  09bb5bfe76adbb474dddbdd111a51623  0dc6fb5924a8b917bc641666ed02663c   \n",
       "1  c4c722114a82fa21654e57e9636d68b0  2bbf833e689d24b697f1f3529c3f3c4b   \n",
       "2  e15c7a67d0ea9a54dffb410bc1d8528b  8d891dfc0e29d744c15c18adced74a68   \n",
       "3  d1f0bd4b237c1358f09db22076b940e7  0dc6fb5924a8b917bc641666ed02663c   \n",
       "4  06a71e8ab0c6db5ce22a4689fd76a3f4  afd0a7b8d546fcc697bb93a5934b65c3   \n",
       "\n",
       "   total_minutes  \n",
       "0      91.800861  \n",
       "1     206.599732  \n",
       "2      93.458001  \n",
       "3     124.778761  \n",
       "4     130.321208  "
      ]
     },
     "metadata": {},
     "execution_count": 50
    }
   ],
   "metadata": {}
  },
  {
   "cell_type": "code",
   "execution_count": 51,
   "source": [
    "orders.isnull().sum()"
   ],
   "outputs": [
    {
     "output_type": "execute_result",
     "data": {
      "text/plain": [
       "order_id             0\n",
       "lat                  0\n",
       "lng                  0\n",
       "dow                  0\n",
       "promised_time        0\n",
       "actual_time          0\n",
       "on_demand            0\n",
       "picker_id            0\n",
       "driver_id            0\n",
       "store_branch_id      0\n",
       "total_minutes      752\n",
       "dtype: int64"
      ]
     },
     "metadata": {},
     "execution_count": 51
    }
   ],
   "metadata": {}
  },
  {
   "cell_type": "code",
   "execution_count": 52,
   "source": [
    "orders.total_minutes = orders.total_minutes.fillna(0)"
   ],
   "outputs": [],
   "metadata": {}
  },
  {
   "cell_type": "code",
   "execution_count": 53,
   "source": [
    "orders.total_minutes.isnull().sum()"
   ],
   "outputs": [
    {
     "output_type": "execute_result",
     "data": {
      "text/plain": [
       "0"
      ]
     },
     "metadata": {},
     "execution_count": 53
    }
   ],
   "metadata": {}
  },
  {
   "cell_type": "code",
   "execution_count": 54,
   "source": [
    "orders[['hours','minutes','seconds']]=pd.to_timedelta(orders.total_minutes, unit='m').dt.components.drop(['days','milliseconds', 'microseconds','nanoseconds'],axis=1)"
   ],
   "outputs": [],
   "metadata": {}
  },
  {
   "cell_type": "code",
   "execution_count": 55,
   "source": [
    "orders['timedelta']=pd.to_timedelta(orders.total_minutes, unit='m')"
   ],
   "outputs": [],
   "metadata": {}
  },
  {
   "cell_type": "code",
   "execution_count": 56,
   "source": [
    "orders.head()"
   ],
   "outputs": [
    {
     "output_type": "execute_result",
     "data": {
      "text/html": [
       "<div>\n",
       "<style scoped>\n",
       "    .dataframe tbody tr th:only-of-type {\n",
       "        vertical-align: middle;\n",
       "    }\n",
       "\n",
       "    .dataframe tbody tr th {\n",
       "        vertical-align: top;\n",
       "    }\n",
       "\n",
       "    .dataframe thead th {\n",
       "        text-align: right;\n",
       "    }\n",
       "</style>\n",
       "<table border=\"1\" class=\"dataframe\">\n",
       "  <thead>\n",
       "    <tr style=\"text-align: right;\">\n",
       "      <th></th>\n",
       "      <th>order_id</th>\n",
       "      <th>lat</th>\n",
       "      <th>lng</th>\n",
       "      <th>dow</th>\n",
       "      <th>promised_time</th>\n",
       "      <th>actual_time</th>\n",
       "      <th>on_demand</th>\n",
       "      <th>picker_id</th>\n",
       "      <th>driver_id</th>\n",
       "      <th>store_branch_id</th>\n",
       "      <th>total_minutes</th>\n",
       "      <th>hours</th>\n",
       "      <th>minutes</th>\n",
       "      <th>seconds</th>\n",
       "      <th>timedelta</th>\n",
       "    </tr>\n",
       "  </thead>\n",
       "  <tbody>\n",
       "    <tr>\n",
       "      <th>0</th>\n",
       "      <td>6abd5e28d01b7c733fe37485294235dc</td>\n",
       "      <td>18.221141</td>\n",
       "      <td>-100.313914</td>\n",
       "      <td>2</td>\n",
       "      <td>13:00:00</td>\n",
       "      <td>12:00:15</td>\n",
       "      <td>False</td>\n",
       "      <td>09bb5bfe76adbb474dddbdd111a51623</td>\n",
       "      <td>09bb5bfe76adbb474dddbdd111a51623</td>\n",
       "      <td>0dc6fb5924a8b917bc641666ed02663c</td>\n",
       "      <td>91.800861</td>\n",
       "      <td>1</td>\n",
       "      <td>31</td>\n",
       "      <td>48</td>\n",
       "      <td>0 days 01:31:48.051660</td>\n",
       "    </tr>\n",
       "    <tr>\n",
       "      <th>1</th>\n",
       "      <td>0d37a1eea001f01b40232ffd496ff663</td>\n",
       "      <td>18.177712</td>\n",
       "      <td>-100.357051</td>\n",
       "      <td>2</td>\n",
       "      <td>13:00:00</td>\n",
       "      <td>10:28:10</td>\n",
       "      <td>False</td>\n",
       "      <td>c4c722114a82fa21654e57e9636d68b0</td>\n",
       "      <td>c4c722114a82fa21654e57e9636d68b0</td>\n",
       "      <td>2bbf833e689d24b697f1f3529c3f3c4b</td>\n",
       "      <td>206.599732</td>\n",
       "      <td>3</td>\n",
       "      <td>26</td>\n",
       "      <td>35</td>\n",
       "      <td>0 days 03:26:35.983920</td>\n",
       "    </tr>\n",
       "    <tr>\n",
       "      <th>2</th>\n",
       "      <td>528428e9b9eb5d3bd0dbdd8da692b087</td>\n",
       "      <td>18.266832</td>\n",
       "      <td>-100.317553</td>\n",
       "      <td>2</td>\n",
       "      <td>11:00:00</td>\n",
       "      <td>10:40:50</td>\n",
       "      <td>False</td>\n",
       "      <td>e15c7a67d0ea9a54dffb410bc1d8528b</td>\n",
       "      <td>e15c7a67d0ea9a54dffb410bc1d8528b</td>\n",
       "      <td>8d891dfc0e29d744c15c18adced74a68</td>\n",
       "      <td>93.458001</td>\n",
       "      <td>1</td>\n",
       "      <td>33</td>\n",
       "      <td>27</td>\n",
       "      <td>0 days 01:33:27.480060</td>\n",
       "    </tr>\n",
       "    <tr>\n",
       "      <th>3</th>\n",
       "      <td>d3f7be6d64eae7405b7bf024e04807a2</td>\n",
       "      <td>18.248884</td>\n",
       "      <td>-100.322622</td>\n",
       "      <td>2</td>\n",
       "      <td>10:00:00</td>\n",
       "      <td>09:41:47</td>\n",
       "      <td>False</td>\n",
       "      <td>d1f0bd4b237c1358f09db22076b940e7</td>\n",
       "      <td>d1f0bd4b237c1358f09db22076b940e7</td>\n",
       "      <td>0dc6fb5924a8b917bc641666ed02663c</td>\n",
       "      <td>124.778761</td>\n",
       "      <td>2</td>\n",
       "      <td>4</td>\n",
       "      <td>46</td>\n",
       "      <td>0 days 02:04:46.725660</td>\n",
       "    </tr>\n",
       "    <tr>\n",
       "      <th>4</th>\n",
       "      <td>e0ad6533b6cd9a382ec6c1d473c5036c</td>\n",
       "      <td>18.229110</td>\n",
       "      <td>-100.322672</td>\n",
       "      <td>2</td>\n",
       "      <td>11:00:00</td>\n",
       "      <td>10:07:53</td>\n",
       "      <td>False</td>\n",
       "      <td>06a71e8ab0c6db5ce22a4689fd76a3f4</td>\n",
       "      <td>06a71e8ab0c6db5ce22a4689fd76a3f4</td>\n",
       "      <td>afd0a7b8d546fcc697bb93a5934b65c3</td>\n",
       "      <td>130.321208</td>\n",
       "      <td>2</td>\n",
       "      <td>10</td>\n",
       "      <td>19</td>\n",
       "      <td>0 days 02:10:19.272480</td>\n",
       "    </tr>\n",
       "  </tbody>\n",
       "</table>\n",
       "</div>"
      ],
      "text/plain": [
       "                           order_id        lat         lng  dow promised_time  \\\n",
       "0  6abd5e28d01b7c733fe37485294235dc  18.221141 -100.313914    2      13:00:00   \n",
       "1  0d37a1eea001f01b40232ffd496ff663  18.177712 -100.357051    2      13:00:00   \n",
       "2  528428e9b9eb5d3bd0dbdd8da692b087  18.266832 -100.317553    2      11:00:00   \n",
       "3  d3f7be6d64eae7405b7bf024e04807a2  18.248884 -100.322622    2      10:00:00   \n",
       "4  e0ad6533b6cd9a382ec6c1d473c5036c  18.229110 -100.322672    2      11:00:00   \n",
       "\n",
       "  actual_time  on_demand                         picker_id  \\\n",
       "0    12:00:15      False  09bb5bfe76adbb474dddbdd111a51623   \n",
       "1    10:28:10      False  c4c722114a82fa21654e57e9636d68b0   \n",
       "2    10:40:50      False  e15c7a67d0ea9a54dffb410bc1d8528b   \n",
       "3    09:41:47      False  d1f0bd4b237c1358f09db22076b940e7   \n",
       "4    10:07:53      False  06a71e8ab0c6db5ce22a4689fd76a3f4   \n",
       "\n",
       "                          driver_id                   store_branch_id  \\\n",
       "0  09bb5bfe76adbb474dddbdd111a51623  0dc6fb5924a8b917bc641666ed02663c   \n",
       "1  c4c722114a82fa21654e57e9636d68b0  2bbf833e689d24b697f1f3529c3f3c4b   \n",
       "2  e15c7a67d0ea9a54dffb410bc1d8528b  8d891dfc0e29d744c15c18adced74a68   \n",
       "3  d1f0bd4b237c1358f09db22076b940e7  0dc6fb5924a8b917bc641666ed02663c   \n",
       "4  06a71e8ab0c6db5ce22a4689fd76a3f4  afd0a7b8d546fcc697bb93a5934b65c3   \n",
       "\n",
       "   total_minutes  hours  minutes  seconds              timedelta  \n",
       "0      91.800861      1       31       48 0 days 01:31:48.051660  \n",
       "1     206.599732      3       26       35 0 days 03:26:35.983920  \n",
       "2      93.458001      1       33       27 0 days 01:33:27.480060  \n",
       "3     124.778761      2        4       46 0 days 02:04:46.725660  \n",
       "4     130.321208      2       10       19 0 days 02:10:19.272480  "
      ]
     },
     "metadata": {},
     "execution_count": 56
    }
   ],
   "metadata": {}
  }
 ],
 "metadata": {
  "orig_nbformat": 4,
  "language_info": {
   "name": "python",
   "version": "3.9.6",
   "mimetype": "text/x-python",
   "codemirror_mode": {
    "name": "ipython",
    "version": 3
   },
   "pygments_lexer": "ipython3",
   "nbconvert_exporter": "python",
   "file_extension": ".py"
  },
  "kernelspec": {
   "name": "python3",
   "display_name": "Python 3.9.6 64-bit"
  },
  "interpreter": {
   "hash": "aee8b7b246df8f9039afb4144a1f6fd8d2ca17a180786b69acc140d282b71a49"
  }
 },
 "nbformat": 4,
 "nbformat_minor": 2
}